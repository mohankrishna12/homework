print("hey there")
print("i am full stack developer")

#A variable in Python is like a named storage box where you can keep data (like numbers, text, etc.). You create a variable by assigning it a value using the equals sign =.


print("hello")
print("mohan krishna")


print("Hello", end=" ")
print("World")


print("Raja\tShekhar")
print("Pavan\tSurya")


j = 37
k = 52
sum_result = j + k
product_result = j * k
print("Sum:", sum_result)
print("Product:", product_result)
