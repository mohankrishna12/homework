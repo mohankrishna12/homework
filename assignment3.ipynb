print(2**3**2)

print(2*3**3*4)

print(10-4*2)

print(-18//4)

print(2%6)

x=100
y=50
print(x and y)

print(36/4)

var1 = 1
var2 = 2
var3 = "3"
print (var1 + var2 + var3)

p, q, r = 10, 20 ,30
print(p, q, r)


valueOne = 5 ** 2
valueTwo = 5 ** 3
print(valueOne)
print(valueTwo)