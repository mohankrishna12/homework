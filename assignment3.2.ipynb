glass_of_water=3
print("I drank", glass_of_water, "glasses of water today.")


glass_of_water=3
glass_of_water=glass_of_water + 1
print(glass_of_water)

men_stepped_on_the_moon=2
print(men_stepped_on_the_moon)



global_mean_sea_level_2018 = 21.20
print(global_mean_sea_level_2018)
