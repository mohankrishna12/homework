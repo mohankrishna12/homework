a = 5
b = 3
multiplication = a * b
summation = a + b
print("Multiplication:", multiplication)
print("Sum:", summation)


s = "Quality"
first = s[0]
middle = s[len(s)//2]  # for "Quality", len=7, so index 3 -> "l"
last = s[-1]
result = first + middle + last
print(result)   # Output: Qly


FirstName = "Quality"
SecondName = "Thought"
FullName = FirstName + " " + SecondName
print("Full Name is:", FullName)  # Output: Full Name is: Quality Thought


myTotal = 4 + 2 * 8 - 6
print(myTotal)  # Output: 14


myTotal = 7 // 5
print(myTotal)  # Output: 1


myTotal = 8 + 2 * 10
print(myTotal)  # Output: 28


numberOne = 16
numberTwo = 4

answer = numberOne + numberTwo + 20
print(answer)  # 40

answer = 10 * numberOne + (numberTwo + 20)
print(answer)  # 180

answer = numberOne + 20 + numberTwo - 10
print(answer)  # 30



FirstName = "Quality"
SecondName = "Thought" 
FullName = FirstName + " " + SecondName
print("Full Name is:", FullName)  # Output: Full Name is: Quality Thought


